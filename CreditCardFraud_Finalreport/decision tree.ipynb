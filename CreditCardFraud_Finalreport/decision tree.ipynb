{
 "cells": [
  {
   "cell_type": "code",
   "execution_count": 18,
   "metadata": {},
   "outputs": [],
   "source": [
    "import pandas as pd\n",
    "import numpy as np\n",
    "import matplotlib.pyplot as plt\n",
    "import seaborn as sns\n",
    "data=pd.read_csv(\"/Users/young/Downloads/creditcard.csv\",index_col=0) "
   ]
  },
  {
   "cell_type": "code",
   "execution_count": 2,
   "metadata": {},
   "outputs": [
    {
     "name": "stdout",
     "output_type": "stream",
     "text": [
      "Requirement already up-to-date: imbalanced-learn in /Users/young/opt/anaconda3/lib/python3.8/site-packages (0.7.0)\n",
      "Requirement already satisfied, skipping upgrade: joblib>=0.11 in /Users/young/opt/anaconda3/lib/python3.8/site-packages (from imbalanced-learn) (0.16.0)\n",
      "Requirement already satisfied, skipping upgrade: scikit-learn>=0.23 in /Users/young/opt/anaconda3/lib/python3.8/site-packages (from imbalanced-learn) (0.23.1)\n",
      "Requirement already satisfied, skipping upgrade: numpy>=1.13.3 in /Users/young/opt/anaconda3/lib/python3.8/site-packages (from imbalanced-learn) (1.18.5)\n",
      "Requirement already satisfied, skipping upgrade: scipy>=0.19.1 in /Users/young/opt/anaconda3/lib/python3.8/site-packages (from imbalanced-learn) (1.5.0)\n",
      "Requirement already satisfied, skipping upgrade: threadpoolctl>=2.0.0 in /Users/young/opt/anaconda3/lib/python3.8/site-packages (from scikit-learn>=0.23->imbalanced-learn) (2.1.0)\n",
      "Note: you may need to restart the kernel to use updated packages.\n"
     ]
    }
   ],
   "source": [
    "pip install -U imbalanced-learn"
   ]
  },
  {
   "cell_type": "code",
   "execution_count": 3,
   "metadata": {},
   "outputs": [],
   "source": [
    "feature_cols = ['Time', 'V1', 'V2', 'V3', 'V4', 'V5', 'V6', 'V7', 'V8', 'V9', 'V10',\n",
    "       'V11', 'V12', 'V13', 'V14', 'V15', 'V16', 'V17', 'V18', 'V19', 'V20',\n",
    "       'V21', 'V22', 'V23', 'V24', 'V25', 'V26', 'V27', 'V28']"
   ]
  },
  {
   "cell_type": "code",
   "execution_count": 4,
   "metadata": {},
   "outputs": [],
   "source": [
    "#random sampling\n",
    "from sklearn import model_selection\n",
    "data_train, data_test = model_selection.train_test_split(data, test_size=0.2, random_state=0)"
   ]
  },
  {
   "cell_type": "code",
   "execution_count": 5,
   "metadata": {},
   "outputs": [],
   "source": [
    "#stratified shuffle split\n",
    "from sklearn.model_selection import StratifiedShuffleSplit\n",
    "X = np.array(data.loc[:,:'Amount'])\n",
    "y = np.array(data[\"Class\"])\n",
    "sess = StratifiedShuffleSplit(n_splits = 5,test_size = 0.2,random_state = 0)"
   ]
  },
  {
   "cell_type": "code",
   "execution_count": 7,
   "metadata": {},
   "outputs": [],
   "source": [
    "for train_index,test_index in sess.split(X, y):\n",
    "    X_train, X_test = X[train_index], X[test_index]\n",
    "    y_train, y_test = y[train_index], y[test_index]"
   ]
  },
  {
   "cell_type": "code",
   "execution_count": 8,
   "metadata": {},
   "outputs": [],
   "source": [
    "#smote\n",
    "from imblearn.over_sampling import SMOTE\n",
    "sos = SMOTE(random_state = 2) \n",
    "X_sos, y_sos = sos.fit_sample(X_train, y_train)\n",
    "train_data = X_sos\n",
    "train_target = y_sos\n",
    "test_target = y_test\n",
    "test_data = X_test"
   ]
  },
  {
   "cell_type": "code",
   "execution_count": 10,
   "metadata": {},
   "outputs": [
    {
     "name": "stdout",
     "output_type": "stream",
     "text": [
      "Accuracy: 0.9971735542993575\n",
      "AUC Score: 0.881440\n",
      "F1 Score: 0.4823151125401929\n",
      "Recall: 0.9971735542993575\n",
      "Precision: 0.9984807491573804\n"
     ]
    }
   ],
   "source": [
    "from sklearn.tree import DecisionTreeClassifier\n",
    "from sklearn import metrics\n",
    "from sklearn.metrics import (confusion_matrix, precision_recall_curve, auc,roc_auc_score,precision_score,roc_curve, recall_score, classification_report, f1_score,precision_recall_fscore_support)\n",
    "clf = DecisionTreeClassifier()\n",
    "clf = clf.fit(train_data,train_target)\n",
    "y_pred = clf.predict(test_data)\n",
    "print(\"Accuracy:\",metrics.accuracy_score(test_target, y_pred))\n",
    "print (\"AUC Score: %f\" % roc_auc_score(test_target,y_pred ))\n",
    "print(\"F1 Score:\",f1_score(test_target, y_pred))\n",
    "print(\"Recall:\", recall_score(test_target, y_pred,average='weighted'))\n",
    "print (\"Precision:\", precision_score(test_target,y_pred ,average='weighted'))"
   ]
  },
  {
   "cell_type": "code",
   "execution_count": 11,
   "metadata": {},
   "outputs": [
    {
     "name": "stdout",
     "output_type": "stream",
     "text": [
      "Accuracy: 0.9978757768336786\n",
      "AUC Score: 0.886885\n",
      "F1 Score: 0.5567765567765568\n",
      "Recall: 0.9978757768336786\n",
      "Precision: 0.9986399734775617\n"
     ]
    }
   ],
   "source": [
    "#ADSYN#\n",
    "from imblearn.over_sampling import ADASYN\n",
    "aos=ADASYN(random_state = 2)\n",
    "X_aos, y_aos = aos.fit_sample(X_train, y_train)\n",
    "train_data_1 = X_aos\n",
    "train_target_1 = y_aos\n",
    "test_target_1 = y_test\n",
    "test_data_1 = X_test\n",
    "clf_1 = DecisionTreeClassifier()\n",
    "clf_2 = clf_1.fit(train_data_1,train_target_1)\n",
    "y_pred_1 = clf_2.predict(test_data_1)\n",
    "print(\"Accuracy:\",metrics.accuracy_score(test_target_1, y_pred_1))\n",
    "print (\"AUC Score: %f\" % roc_auc_score(test_target_1,y_pred_1 ))\n",
    "print(\"F1 Score:\",f1_score(test_target_1, y_pred_1))\n",
    "print (\"Recall:\", recall_score(test_target_1, y_pred_1,average='weighted'))\n",
    "print (\"Precision:\", precision_score(test_target_1,y_pred_1 ,average='weighted'))"
   ]
  },
  {
   "cell_type": "code",
   "execution_count": 13,
   "metadata": {},
   "outputs": [
    {
     "name": "stdout",
     "output_type": "stream",
     "text": [
      "Collecting graphviz\n",
      "  Downloading graphviz-0.14.2-py2.py3-none-any.whl (18 kB)\n",
      "Installing collected packages: graphviz\n",
      "Successfully installed graphviz-0.14.2\n",
      "Note: you may need to restart the kernel to use updated packages.\n"
     ]
    }
   ],
   "source": [
    "pip install graphviz"
   ]
  },
  {
   "cell_type": "code",
   "execution_count": 12,
   "metadata": {},
   "outputs": [
    {
     "name": "stdout",
     "output_type": "stream",
     "text": [
      "Accuracy: 0.9991924440855307\n",
      "AUC Score: 0.897731\n",
      "F1 Score: 0.7722772277227722\n",
      "Recall: 0.9991924440855307\n",
      "Precision: 0.9992187403791836\n"
     ]
    }
   ],
   "source": [
    "#RENN\n",
    "from imblearn.under_sampling import RepeatedEditedNearestNeighbours\n",
    "renn = RepeatedEditedNearestNeighbours()\n",
    "X_renn, y_renn= renn.fit_sample(X_train, y_train)\n",
    "train_data_2 = X_renn\n",
    "train_target_2 = y_renn\n",
    "test_target_2 = y_test\n",
    "test_data_2 = X_test\n",
    "clf_3 = DecisionTreeClassifier()\n",
    "clf_4 = clf_3.fit(train_data_2,train_target_2)\n",
    "y_pred_2 = clf_4.predict(test_data_2)\n",
    "print(\"Accuracy:\",metrics.accuracy_score(test_target_2, y_pred_2))\n",
    "print (\"AUC Score: %f\" % roc_auc_score(test_target_2,y_pred_2 ))\n",
    "print(\"F1 Score:\",f1_score(test_target_2, y_pred_2))\n",
    "print (\"Recall:\", recall_score(test_target_2, y_pred_2,average='weighted'))\n",
    "print (\"Precision:\", precision_score(test_target_2,y_pred_2 ,average='weighted'))"
   ]
  },
  {
   "cell_type": "code",
   "execution_count": 6,
   "metadata": {},
   "outputs": [
    {
     "name": "stdout",
     "output_type": "stream",
     "text": [
      "Requirement already satisfied: six in /Users/young/opt/anaconda3/lib/python3.8/site-packages (1.15.0)\n",
      "Note: you may need to restart the kernel to use updated packages.\n"
     ]
    }
   ],
   "source": [
    "pip install six"
   ]
  },
  {
   "cell_type": "code",
   "execution_count": 14,
   "metadata": {},
   "outputs": [
    {
     "name": "stdout",
     "output_type": "stream",
     "text": [
      "Accuracy: 0.9971384431726414\n",
      "AUC Score: 0.871236\n",
      "F1 Score: 0.4724919093851134\n",
      "Recall: 0.9971384431726414\n",
      "Precision: 0.9984350169307892\n"
     ]
    }
   ],
   "source": [
    "#smotetomek\n",
    "from imblearn.combine import SMOTETomek\n",
    "kos = SMOTETomek(random_state = 2) \n",
    "X_kos, y_kos = kos.fit_sample(X_train, y_train)\n",
    "train_data_3 = X_kos\n",
    "train_target_3 = y_kos\n",
    "test_target_3 = y_test\n",
    "test_data_3 = X_test\n",
    "clf_5 = DecisionTreeClassifier()\n",
    "clf_6 = clf_5.fit(train_data_3,train_target_3)\n",
    "y_pred_3 = clf_6.predict(test_data_3)\n",
    "print(\"Accuracy:\",metrics.accuracy_score(test_target_3, y_pred_3))\n",
    "print (\"AUC Score: %f\" % roc_auc_score(test_target_3,y_pred_3 ))\n",
    "print(\"F1 Score:\",f1_score(test_target_3, y_pred_3))\n",
    "print(\"Recall:\", recall_score(test_target_3, y_pred_3,average='weighted'))\n",
    "print(\"Precision:\", precision_score(test_target_3,y_pred_3 ,average='weighted'))"
   ]
  },
  {
   "cell_type": "code",
   "execution_count": 16,
   "metadata": {},
   "outputs": [
    {
     "name": "stdout",
     "output_type": "stream",
     "text": [
      "Accuracy: 0.99750711000316\n",
      "AUC Score: 0.896886\n",
      "F1 Score: 0.5234899328859061\n",
      "Recall: 0.9991924440855307\n",
      "Precision: 0.9992187403791836\n"
     ]
    }
   ],
   "source": [
    "#SMOTEENN\n",
    "from imblearn.combine import SMOTEENN\n",
    "smote_enn = SMOTEENN(random_state=2)\n",
    "X_sot, y_sot = smote_enn.fit_sample(X_train, y_train)\n",
    "kos = SMOTETomek(random_state = 2) \n",
    "train_data_4 = X_sot\n",
    "train_target_4 = y_sot\n",
    "test_target_4 = y_test\n",
    "test_data_4 = X_test\n",
    "clf_7 = DecisionTreeClassifier()\n",
    "clf_8 = clf_7.fit(train_data_4,train_target_4)\n",
    "y_pred_4 = clf_8.predict(test_data_4)\n",
    "print(\"Accuracy:\",metrics.accuracy_score(test_target_4, y_pred_4))\n",
    "print (\"AUC Score: %f\" % roc_auc_score(test_target_4,y_pred_4 ))\n",
    "print(\"F1 Score:\",f1_score(test_target_4, y_pred_4))\n",
    "print(\"Recall:\", recall_score(test_target_4, y_pred_2,average='weighted'))\n",
    "print(\"Precision:\", precision_score(test_target_2,y_pred_2 ,average='weighted'))"
   ]
  },
  {
   "cell_type": "code",
   "execution_count": 5,
   "metadata": {},
   "outputs": [
    {
     "name": "stdout",
     "output_type": "stream",
     "text": [
      "Collecting pydotplus\n",
      "  Downloading pydotplus-2.0.2.tar.gz (278 kB)\n",
      "\u001b[K     |████████████████████████████████| 278 kB 449 kB/s eta 0:00:01\n",
      "\u001b[?25hRequirement already satisfied: pyparsing>=2.0.1 in /Users/young/opt/anaconda3/lib/python3.8/site-packages (from pydotplus) (2.4.7)\n",
      "Building wheels for collected packages: pydotplus\n",
      "  Building wheel for pydotplus (setup.py) ... \u001b[?25ldone\n",
      "\u001b[?25h  Created wheel for pydotplus: filename=pydotplus-2.0.2-py3-none-any.whl size=24566 sha256=9c7e92e030021f1f78c2521c9ea88efb6af955beba83a858abe512f24b911239\n",
      "  Stored in directory: /Users/young/Library/Caches/pip/wheels/fe/cd/78/a7e873cc049759194f8271f780640cf96b35e5a48bef0e2f36\n",
      "Successfully built pydotplus\n",
      "Installing collected packages: pydotplus\n",
      "Successfully installed pydotplus-2.0.2\n",
      "Note: you may need to restart the kernel to use updated packages.\n"
     ]
    }
   ],
   "source": [
    "pip install pydotplus"
   ]
  },
  {
   "cell_type": "code",
   "execution_count": 51,
   "metadata": {},
   "outputs": [
    {
     "name": "stderr",
     "output_type": "stream",
     "text": [
      "/Users/young/opt/anaconda3/lib/python3.8/site-packages/sklearn/model_selection/_search.py:847: FutureWarning: The parameter 'iid' is deprecated in 0.22 and will be removed in 0.24.\n",
      "  warnings.warn(\n"
     ]
    },
    {
     "name": "stdout",
     "output_type": "stream",
     "text": [
      "   mean_test_score  std_test_score                params\n",
      "0         0.999552        0.000039  {'n_estimators': 20}\n",
      "1         0.999774        0.000017  {'n_estimators': 30}\n",
      "2         0.999841        0.000025  {'n_estimators': 40}\n",
      "3         0.999885        0.000024  {'n_estimators': 50}\n",
      "4         0.999915        0.000018  {'n_estimators': 60}\n",
      "5         0.999919        0.000016  {'n_estimators': 70}\n",
      "6         0.999938        0.000023  {'n_estimators': 80}\n",
      "{'n_estimators': 80} 0.9999378387606435\n"
     ]
    }
   ],
   "source": [
    "from sklearn.model_selection import GridSearchCV\n",
    "from sklearn.ensemble import GradientBoostingClassifier\n",
    "param_test1 = {'n_estimators':range(20,81,10)}\n",
    "gsearch1 = GridSearchCV(estimator = GradientBoostingClassifier(learning_rate=0.1, min_samples_split=300,\n",
    "                                  min_samples_leaf=20,max_depth=8,max_features='sqrt', subsample=0.8,random_state=10), \n",
    "                       param_grid = param_test1, scoring='roc_auc',iid=False,cv=5)\n",
    "gsearch1.fit(train_data,train_target)\n",
    "print(pd.DataFrame(gsearch1.cv_results_)[['mean_test_score','std_test_score','params']])\n",
    "print( gsearch1.best_params_, gsearch1.best_score_)"
   ]
  },
  {
   "cell_type": "code",
   "execution_count": 19,
   "metadata": {},
   "outputs": [],
   "source": [
    "from sklearn.metrics import f1_score\n",
    "from sklearn.model_selection import RandomizedSearchCV\n",
    "tree= DecisionTreeClassifier()\n",
    "tree = tree.fit(train_data,train_target)\n",
    "tree_pred = tree.predict(test_data)"
   ]
  },
  {
   "cell_type": "code",
   "execution_count": 22,
   "metadata": {},
   "outputs": [
    {
     "name": "stderr",
     "output_type": "stream",
     "text": [
      "/Users/young/opt/anaconda3/lib/python3.8/site-packages/sklearn/model_selection/_search.py:847: FutureWarning: The parameter 'iid' is deprecated in 0.22 and will be removed in 0.24.\n",
      "  warnings.warn(\n"
     ]
    },
    {
     "name": "stdout",
     "output_type": "stream",
     "text": [
      "{'max_depth': 14, 'min_samples_split': 300} 0.999990206518825\n"
     ]
    }
   ],
   "source": [
    "#max#\n",
    "from sklearn.model_selection import GridSearchCV\n",
    "from sklearn.ensemble import GradientBoostingClassifier\n",
    "param_test2 = {'max_depth':range(6,15), 'min_samples_split':range(100,801,200)}\n",
    "gsearch2 = GridSearchCV(estimator = GradientBoostingClassifier(learning_rate=0.1, n_estimators=80, min_samples_leaf=20, \n",
    "      max_features='sqrt', subsample=0.8, random_state=10), \n",
    "   param_grid = param_test2, scoring='roc_auc',iid=False, cv=5)\n",
    "gsearch2.fit(train_data,train_target)\n",
    "print( gsearch2.best_params_, gsearch2.best_score_)"
   ]
  },
  {
   "cell_type": "code",
   "execution_count": 25,
   "metadata": {},
   "outputs": [
    {
     "ename": "SyntaxError",
     "evalue": "invalid syntax (<ipython-input-25-eede947f330d>, line 2)",
     "output_type": "error",
     "traceback": [
      "\u001b[0;36m  File \u001b[0;32m\"<ipython-input-25-eede947f330d>\"\u001b[0;36m, line \u001b[0;32m2\u001b[0m\n\u001b[0;31m    from sklearn.model_selection import\u001b[0m\n\u001b[0m                                         ^\u001b[0m\n\u001b[0;31mSyntaxError\u001b[0m\u001b[0;31m:\u001b[0m invalid syntax\n"
     ]
    }
   ],
   "source": [
    "#min#\n",
    "from sklearn.model_selection import  \n",
    "from sklearn.ensemble import GradientBoostingClassifier\n",
    "param_test3 = {'min_samples_split':range(100,801,200), 'min_samples_leaf':range(60,101,10)}\n",
    "gsearch3 = GridSearchCV(estimator = GradientBoostingClassifier(learning_rate=0.1, n_estimators=80,max_depth=14,\n",
    "                                     max_features='sqrt', subsample=0.8, random_state=10), \n",
    "                       param_grid = param_test3, scoring='roc_auc',iid=False, cv=5)\n",
    "gsearch3.fit(train_data,train_target)\n",
    "print( gsearch3.best_params_, gsearch3.best_score_)"
   ]
  },
  {
   "cell_type": "code",
   "execution_count": null,
   "metadata": {},
   "outputs": [],
   "source": [
    "from sklearn.model_selection import RandomizedSearchCV\n",
    "from scipy.stats import randint\n",
    "from sklearn.metrics import roc_auc_score\n",
    "param_dist = {\"max_depth\": [3, None],\n",
    "              \"max_features\": randint(1, 9),\n",
    "              \"min_samples_leaf\": randint(1, 9),\n",
    "              \"criterion\": [\"gini\", \"entropy\"]}\n",
    "tree = DecisionTreeClassifier()\n",
    "tree_cv_pred = param_dist.predict(test_data)\n",
    "tree_cv = tree_cv.fit(train_data,train_target)\n",
    "print(\"Tuned Decision Tree Parameters: {}\".format(tree_cv.best_params_))"
   ]
  },
  {
   "cell_type": "code",
   "execution_count": null,
   "metadata": {},
   "outputs": [],
   "source": [
    "gbm1 = GradientBoostingClassifier(learning_rate=0.1, n_estimators=50,max_depth=8, min_samples_leaf =70, \n",
    "               min_samples_split =500, max_features='sqrt', subsample=0.8, random_state=10)\n",
    "gbm1.fit(X_train,y_train)\n",
    "y_pred1 = gbm1.predict(X_test)\n",
    "print (\"Accuracy : %.4g\" % accuracy_score(y_test, y_pred1))\n",
    "print (\"AUC Score (Train): %f\" % roc_auc_score(y_test, y_pred1))"
   ]
  }
 ],
 "metadata": {
  "kernelspec": {
   "display_name": "Python 3",
   "language": "python",
   "name": "python3"
  },
  "language_info": {
   "codemirror_mode": {
    "name": "ipython",
    "version": 3
   },
   "file_extension": ".py",
   "mimetype": "text/x-python",
   "name": "python",
   "nbconvert_exporter": "python",
   "pygments_lexer": "ipython3",
   "version": "3.8.5"
  }
 },
 "nbformat": 4,
 "nbformat_minor": 4
}
